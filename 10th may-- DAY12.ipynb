{
 "cells": [
  {
   "cell_type": "markdown",
   "metadata": {},
   "source": [
    "## Problem solving and programming\n",
    "\n",
    "\n",
    " ### DAYNO- 12\n",
    "   ### DATE- 10th may\n",
    "   "
   ]
  },
  {
   "cell_type": "markdown",
   "metadata": {},
   "source": [
    "### PROBLEM 1:\n",
    "#### Problem statement:\n",
    "* fibonacii series\n",
    "\n",
    "#### Test cases:\n",
    "* fib(6,0,1) -> 0 1 1 2 3 5\n",
    "* fib(10,0,1) -> 0 1 1 2 3 5 8 13 21 34\n"
   ]
  },
  {
   "cell_type": "code",
   "execution_count": 5,
   "metadata": {},
   "outputs": [
    {
     "name": "stdout",
     "output_type": "stream",
     "text": [
      "0\n",
      "1\n",
      "1\n",
      "2\n",
      "3\n",
      "5\n",
      "8\n",
      "13\n",
      "21\n",
      "34\n"
     ]
    }
   ],
   "source": [
    "def fib(n,f1,f2):\n",
    "    print(f1)\n",
    "    print(f2)\n",
    "    for i in range (2,n):\n",
    "        f3=f1+f2\n",
    "        print(f3)\n",
    "        f1=f2\n",
    "        f2=f3\n",
    "        i=i+1\n",
    "fib(10,0,1)     "
   ]
  },
  {
   "cell_type": "markdown",
   "metadata": {},
   "source": [
    "### PROBLEM 2:\n",
    "#### Problem statement:\n",
    "* print first n prime numbers\n",
    "\n",
    "\n",
    "#### Test cases:\n",
    "* nprime(5) ->2 3 5 7 11\n",
    "* nprime(10)  -> 2 3 5 7 11 13 17 19 23 29"
   ]
  },
  {
   "cell_type": "code",
   "execution_count": 6,
   "metadata": {},
   "outputs": [
    {
     "data": {
      "text/plain": [
       "False"
      ]
     },
     "execution_count": 6,
     "metadata": {},
     "output_type": "execute_result"
    }
   ],
   "source": [
    "def isprime(n):\n",
    "    count=0\n",
    "    for i in range(2,n):\n",
    "        if n%i==0:\n",
    "            count=count+1\n",
    "    if count==0:\n",
    "        return True\n",
    "    else:\n",
    "        return False"
   ]
  },
  {
   "cell_type": "code",
   "execution_count": 10,
   "metadata": {},
   "outputs": [
    {
     "name": "stdout",
     "output_type": "stream",
     "text": [
      "2  3  5  7  11  13  17  19  23  29  31  37  41  43  47  53  59  61  67  71  73  79  83  89  97  101  103  107  109  113  127  131  137  139  149  151  157  163  167  173  179  181  191  193  197  199  211  223  227  229  "
     ]
    }
   ],
   "source": [
    "def nprime(m):\n",
    "    i=2\n",
    "    count=0\n",
    "    while(count!=m):\n",
    "        if isprime(i)==True:\n",
    "            count=count+1\n",
    "            print(i  , end=\"  \")\n",
    "        i=i+1\n",
    "nprime(50)"
   ]
  },
  {
   "cell_type": "markdown",
   "metadata": {},
   "source": [
    "### PROBLEM 3:\n",
    "#### Problem statement:\n",
    "* finding square root of a number\n",
    "\n",
    "#### Constraints-\n",
    "\n",
    "#### Test cases:\n",
    "* sqrt1(5) -> 2.2360"
   ]
  },
  {
   "cell_type": "code",
   "execution_count": 27,
   "metadata": {},
   "outputs": [
    {
     "name": "stdout",
     "output_type": "stream",
     "text": [
      "2.0\n",
      "2.23606797749979\n",
      "81.65169930871004\n"
     ]
    }
   ],
   "source": [
    "def sqrt1(n):\n",
    "    m=n**0.5\n",
    "    return m\n",
    "print(sqrt1(4))\n",
    "print(sqrt1(5))\n",
    "print(sqrt1(6667))"
   ]
  },
  {
   "cell_type": "markdown",
   "metadata": {},
   "source": [
    "# Recursion\n",
    "* Function calling itself\n",
    " * breakdown a complex problem into smaller problems of lower complexity.\n",
    "    "
   ]
  },
  {
   "cell_type": "markdown",
   "metadata": {},
   "source": [
    "### PROBLEM 1:\n",
    "#### Problem statement:\n",
    "* power of a number\n"
   ]
  },
  {
   "cell_type": "markdown",
   "metadata": {},
   "source": [
    "###  using iteratrive process"
   ]
  },
  {
   "cell_type": "code",
   "execution_count": 35,
   "metadata": {},
   "outputs": [
    {
     "data": {
      "text/plain": [
       "32"
      ]
     },
     "execution_count": 35,
     "metadata": {},
     "output_type": "execute_result"
    }
   ],
   "source": [
    "def power(n,r):\n",
    "    prod=1\n",
    "    for i in range(1,r+1):\n",
    "        prod*=n\n",
    "    return prod\n",
    "\n",
    "power(2,5)"
   ]
  },
  {
   "cell_type": "markdown",
   "metadata": {},
   "source": [
    "### using recursive process"
   ]
  },
  {
   "cell_type": "code",
   "execution_count": 31,
   "metadata": {},
   "outputs": [
    {
     "data": {
      "text/plain": [
       "125"
      ]
     },
     "execution_count": 31,
     "metadata": {},
     "output_type": "execute_result"
    }
   ],
   "source": [
    "def recursivepower(n,r):\n",
    "    if r==1:\n",
    "        return n\n",
    "    else:\n",
    "        return recursivepower(n,r-1) * n\n",
    "recursivepower(5,3)\n",
    "        "
   ]
  },
  {
   "cell_type": "markdown",
   "metadata": {},
   "source": [
    "### PROBLEM 2:\n",
    "#### Problem statement:\n",
    "* factorial using recursion\n",
    "\n",
    "#### Constraints-\n",
    "\n",
    "#### Test cases:\n",
    "* fact(4) -> 24\n",
    "* fact(5) ->120"
   ]
  },
  {
   "cell_type": "markdown",
   "metadata": {},
   "source": [
    "### Recursive"
   ]
  },
  {
   "cell_type": "code",
   "execution_count": 39,
   "metadata": {},
   "outputs": [
    {
     "data": {
      "text/plain": [
       "24"
      ]
     },
     "execution_count": 39,
     "metadata": {},
     "output_type": "execute_result"
    }
   ],
   "source": [
    "def fact(n):\n",
    "    if n==1:\n",
    "        return n\n",
    "    else:\n",
    "        return fact(n-1)*n\n",
    "fact(4)"
   ]
  },
  {
   "cell_type": "markdown",
   "metadata": {},
   "source": [
    "### PROBLEM 3:\n",
    "#### Problem statement:\n",
    "* gcd \n",
    "\n",
    "#### Constraints-\n",
    "\n",
    "#### Test cases:\n",
    "* fact(4) -> 24\n",
    "* fact(5) ->120"
   ]
  },
  {
   "cell_type": "markdown",
   "metadata": {},
   "source": [
    "### recursive"
   ]
  },
  {
   "cell_type": "code",
   "execution_count": 20,
   "metadata": {},
   "outputs": [
    {
     "data": {
      "text/plain": [
       "3"
      ]
     },
     "execution_count": 20,
     "metadata": {},
     "output_type": "execute_result"
    }
   ],
   "source": [
    "#gcd of 2 numbers remain the same when the smaller parameter is reduced to the remainder and the larger parameter is replaced\n",
    "#by the smaller parameter\n",
    "#gcd(a,b)=gcd(b%a,a)\n",
    "def gcd(a,b):\n",
    "    if b%a ==0:\n",
    "        return a\n",
    "    else:\n",
    "        return gcd(b%a,a)\n",
    "gcd(12,39)"
   ]
  },
  {
   "cell_type": "markdown",
   "metadata": {},
   "source": [
    "### iterative"
   ]
  },
  {
   "cell_type": "code",
   "execution_count": 21,
   "metadata": {},
   "outputs": [
    {
     "data": {
      "text/plain": [
       "3"
      ]
     },
     "execution_count": 21,
     "metadata": {},
     "output_type": "execute_result"
    }
   ],
   "source": [
    "def gcd(a,b):\n",
    "    r=b%a\n",
    "    if r == 0:\n",
    "        return a\n",
    "    while r!=0:\n",
    "        r=b%a\n",
    "        b=a\n",
    "        a=r\n",
    "        \n",
    "    return b\n",
    "gcd(39,6)"
   ]
  },
  {
   "cell_type": "markdown",
   "metadata": {},
   "source": [
    "### PROBLEM 4:\n",
    "#### Problem statement:\n",
    "* TowersofHanoi\n",
    "\n",
    "#### Test cases:\n",
    "* Test case1---> \n",
    "towersofhanoi(3,'A','B','C')--\n",
    "                                    move  1 disk from  A to C\n",
    "                                    move  2 disk from  A to B\n",
    "                                    move  1 disk from  C to B\n",
    "                                    move  3 disk from  A to C\n",
    "                                    move  1 disk from  B to A\n",
    "                                    move  2 disk from  B to C\n",
    "                                    move  1 disk from  A to C\n",
    "\n",
    "## Expanation\n",
    "#### n disks--> \n",
    "* move n-1 disks from source to temp\n",
    "* move nth disk from source to dest\n",
    "* move n-1 disks from temp to dest\n"
   ]
  },
  {
   "cell_type": "markdown",
   "metadata": {},
   "source": [
    "#### 3 disks--> \n",
    "* move 2 disks from source to temp\n",
    "* move 3rd disk from source to dest\n",
    "* move 2 diskd from temp to dest\n",
    "\n",
    "####  minimum no.of moves (2**n )-1"
   ]
  },
  {
   "cell_type": "code",
   "execution_count": 35,
   "metadata": {},
   "outputs": [
    {
     "name": "stdout",
     "output_type": "stream",
     "text": [
      "move  1 disk from  A to C\n",
      "move  2 disk from  A to B\n",
      "move  1 disk from  C to B\n",
      "move  3 disk from  A to C\n",
      "move  1 disk from  B to A\n",
      "move  2 disk from  B to C\n",
      "move  1 disk from  A to C\n"
     ]
    }
   ],
   "source": [
    "def towersofhanoi(n,source,temp,dest):\n",
    "    if n==1:\n",
    "        print(\"move \",n,'disk from ',source,'to',dest)\n",
    "    else:\n",
    "        towersofhanoi(n-1,source,dest,temp)\n",
    "        print(\"move \",n,'disk from ',source,'to',dest)\n",
    "        towersofhanoi(n-1,temp,source,dest)\n",
    "\n",
    "towersofhanoi(3,'A','B','C')\n",
    "    "
   ]
  },
  {
   "cell_type": "markdown",
   "metadata": {},
   "source": [
    "### PROBLEM 5:\n",
    "#### Problem statement:\n",
    "*  nth fibonacii number\n",
    "\n",
    "#### Test cases:\n",
    "* fib(6,0,1) -> 5\n",
    "* fib(10,0,1) ->  34"
   ]
  },
  {
   "cell_type": "markdown",
   "metadata": {},
   "source": [
    "### Iteration"
   ]
  },
  {
   "cell_type": "code",
   "execution_count": 40,
   "metadata": {},
   "outputs": [
    {
     "name": "stdout",
     "output_type": "stream",
     "text": [
      "34\n"
     ]
    }
   ],
   "source": [
    "def fib(n,f1,f2):\n",
    "    for i in range(1,n-1):\n",
    "        f3=f1+f2\n",
    "        f1=f2\n",
    "        f2=f3\n",
    "    print(f3)\n",
    "fib(10,0,1)"
   ]
  },
  {
   "cell_type": "markdown",
   "metadata": {},
   "source": [
    "### Recursion"
   ]
  },
  {
   "cell_type": "code",
   "execution_count": 18,
   "metadata": {},
   "outputs": [
    {
     "data": {
      "text/plain": [
       "34"
      ]
     },
     "execution_count": 18,
     "metadata": {},
     "output_type": "execute_result"
    }
   ],
   "source": [
    "def fib(n):\n",
    "    if n==1:\n",
    "        return 0\n",
    "    elif n==2:\n",
    "        return 1\n",
    "    else:\n",
    "        return (fib(n-1) +fib(n-2))\n",
    "fib(10)    \n"
   ]
  },
  {
   "cell_type": "markdown",
   "metadata": {},
   "source": [
    "### PROBLEM 6:\n",
    "#### Problem statement:\n",
    "* Define a function to convert a binary number to the corresponding decimal number\n",
    "\n",
    "#### Test cases:\n",
    "* binaryToDecimal(1100) -> 12\n",
    "* binaryToDecimal(1010) -> 10\n",
    "* binaryToDecimal(111000) -> 56"
   ]
  },
  {
   "cell_type": "code",
   "execution_count": 5,
   "metadata": {},
   "outputs": [
    {
     "data": {
      "text/plain": [
       "12"
      ]
     },
     "execution_count": 5,
     "metadata": {},
     "output_type": "execute_result"
    }
   ],
   "source": [
    "def btod(n):\n",
    "    add=0\n",
    "    i=0\n",
    "    while n>0:\n",
    "        r=n%10\n",
    "        add=add+r*2**i\n",
    "        n=int(n/10)\n",
    "        i=i+1\n",
    "    return add\n",
    "btod(1100)"
   ]
  }
 ],
 "metadata": {
  "kernelspec": {
   "display_name": "Python 3",
   "language": "python",
   "name": "python3"
  },
  "language_info": {
   "codemirror_mode": {
    "name": "ipython",
    "version": 3
   },
   "file_extension": ".py",
   "mimetype": "text/x-python",
   "name": "python",
   "nbconvert_exporter": "python",
   "pygments_lexer": "ipython3",
   "version": "3.7.3"
  }
 },
 "nbformat": 4,
 "nbformat_minor": 2
}
