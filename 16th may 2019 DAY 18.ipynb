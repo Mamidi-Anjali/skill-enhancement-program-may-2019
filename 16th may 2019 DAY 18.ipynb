{
 "cells": [
  {
   "cell_type": "markdown",
   "metadata": {},
   "source": [
    "## Problem solving and programming\n",
    "\n",
    "\n",
    " ### DAY NO-18\n",
    "   ### DATE- 16th may 2019\n",
    "   "
   ]
  },
  {
   "cell_type": "markdown",
   "metadata": {},
   "source": [
    "### PROBLEM 1:\n",
    "#### Problem statement:\n",
    "* Define a function to read data from a text file\n",
    "\n",
    "#### Test cases:\n",
    "* Test case1\n",
    "* Test case2\n",
    "* Test case3"
   ]
  },
  {
   "cell_type": "code",
   "execution_count": 1,
   "metadata": {},
   "outputs": [
    {
     "data": {
      "text/plain": [
       "'Data in line 1\\n'"
      ]
     },
     "execution_count": 1,
     "metadata": {},
     "output_type": "execute_result"
    }
   ],
   "source": [
    "def readfiledata(filename):\n",
    "    f=open(filename, 'r')\n",
    "    filedata= f.readline() # to read a single line in the file\n",
    "    f.close()\n",
    "    return filedata\n",
    "readfiledata('DataFiles/data1.txt')"
   ]
  },
  {
   "cell_type": "code",
   "execution_count": 5,
   "metadata": {},
   "outputs": [
    {
     "data": {
      "text/plain": [
       "'Data in line 1\\nData in line 2\\n'"
      ]
     },
     "execution_count": 5,
     "metadata": {},
     "output_type": "execute_result"
    }
   ],
   "source": [
    "def readfiledata(filename):\n",
    "    f=open(filename, 'r')\n",
    "    filedata= f.readline() # displays the first line in the file\n",
    "    filedata+=f.readline()# second line appends  with the first line\n",
    "    f.close()\n",
    "    return filedata\n",
    "readfiledata('DataFiles/data1.txt')"
   ]
  },
  {
   "cell_type": "code",
   "execution_count": 6,
   "metadata": {},
   "outputs": [
    {
     "data": {
      "text/plain": [
       "'Data in line 1\\nData in line 2\\nData in line 3'"
      ]
     },
     "execution_count": 6,
     "metadata": {},
     "output_type": "execute_result"
    }
   ],
   "source": [
    "def readfiledata(filename):\n",
    "    f=open(filename, 'r')\n",
    "    filedata= f.read() # to display all the lines in a file\n",
    "    f.close()\n",
    "    return filedata\n",
    "readfiledata('DataFiles/data1.txt')"
   ]
  },
  {
   "cell_type": "code",
   "execution_count": 10,
   "metadata": {},
   "outputs": [
    {
     "data": {
      "text/plain": [
       "'Data in line 1\\nData in line 2\\nData in line 3'"
      ]
     },
     "execution_count": 10,
     "metadata": {},
     "output_type": "execute_result"
    }
   ],
   "source": [
    "def readfiledata(filename):\n",
    "    with open(filename, 'r') as f: # with atomatically closes the file it is more efficient and faster\n",
    "        filedata = f.read() \n",
    "    return filedata\n",
    "readfiledata('DataFiles/data1.txt')"
   ]
  },
  {
   "cell_type": "code",
   "execution_count": 12,
   "metadata": {},
   "outputs": [
    {
     "name": "stdout",
     "output_type": "stream",
     "text": [
      "Data in line 1\n",
      "Data in line 2\n",
      "Data in line 3"
     ]
    }
   ],
   "source": [
    "def readfiledata(filename):\n",
    "    with open(filename, 'r') as f: # with atomatically closes the file it is more efficient and faster\n",
    "        for line in f:\n",
    "            print(line , end='') # print understands the new line characters .so \\n will not be printed and goes to a new line\n",
    "    return \n",
    "readfiledata('DataFiles/data1.txt')"
   ]
  },
  {
   "cell_type": "code",
   "execution_count": 13,
   "metadata": {},
   "outputs": [
    {
     "name": "stdout",
     "output_type": "stream",
     "text": [
      "Data in line 1\n",
      "Data in line 2\n",
      "Data in line 3\n"
     ]
    }
   ],
   "source": [
    "def readfiledata(filename):\n",
    "    with open(filename, 'r') as f: # with atomatically closes the file it is more efficient and faster\n",
    "        print(f.read()) # instead of using for loop directly using read function we can read all the lines\n",
    "    return \n",
    "readfiledata('DataFiles/data1.txt')"
   ]
  },
  {
   "cell_type": "code",
   "execution_count": 18,
   "metadata": {},
   "outputs": [],
   "source": [
    "def writeintofile(filename,data):\n",
    "    with open(filename, 'w') as f: # 'w' is used to write into a new file\n",
    "        f.write(data)\n",
    "    return    \n",
    "writeintofile('DataFiles/filewrite.txt','data written into filewrite')"
   ]
  },
  {
   "cell_type": "code",
   "execution_count": 21,
   "metadata": {},
   "outputs": [],
   "source": [
    "def writeintofile(filename,data,mode):\n",
    "    with open(filename,mode) as f: # mode can be read - 'r', write  -'w' or append -'a'\n",
    "        f.write(data)\n",
    "    return    \n",
    "writeintofile('DataFiles/filewrite.txt','\\ndata written','a')\n",
    "## a- append will add to the existing data\n",
    "## w- write will rewrite the existing file"
   ]
  },
  {
   "cell_type": "markdown",
   "metadata": {},
   "source": [
    "### PROBLEM 2:\n",
    "#### Problem statement:\n",
    "* Define a function to generate a marks data file(text file) for 1300 students such that each mark is entered in a new line\n",
    "marks range from 0 to 100 (inclusive) a s a random number\n",
    "#### Constraints-\n",
    "\n",
    "#### Test cases:\n",
    "* Test case1\n",
    "* Test case2\n",
    "* Test case3"
   ]
  },
  {
   "cell_type": "code",
   "execution_count": 14,
   "metadata": {},
   "outputs": [],
   "source": [
    "import random\n",
    "def genmarksdata(n,filename):\n",
    "    with open(filename,'w') as marksfile:\n",
    "        for i in range(0,n):\n",
    "            marks=random.randint(0,100)\n",
    "            marksfile.write(str(marks)+ '\\n')\n",
    "    return   \n",
    "\n",
    "genmarksdata(1300,'DataFiles/marksdatafile.txt')\n",
    "    "
   ]
  },
  {
   "cell_type": "markdown",
   "metadata": {},
   "source": [
    "### PROBLEM 3:\n",
    "#### Problem statement:\n",
    "* Generate a report on the marks data in the following indicators\n",
    "* Highest mark :\n",
    "* Lowest mark :\n",
    "* Average mark :\n",
    "* no.of students with distinction(>80) :\n",
    "* No.of students with first class(>60) :\n",
    "* No.of students with second class(>50) :\n",
    "* No.of students with third class(>40) :\n",
    "* No.of students failed(<40) :\n",
    "\n"
   ]
  },
  {
   "cell_type": "code",
   "execution_count": 11,
   "metadata": {},
   "outputs": [],
   "source": [
    "import random\n",
    "def readmarksfromfile(filename):\n",
    "    marks_li=[]\n",
    "    with open(filename,'r') as f:\n",
    "        for x in f:\n",
    "            marks_li.append(int(x))\n",
    "    writemarksintofile('DataFiles/reportFile.txt',marks_li)\n",
    "    \n",
    "def writemarksintofile(filename,arr):\n",
    "    dist=0\n",
    "    first=0\n",
    "    second=0\n",
    "    third=0\n",
    "    fail=0\n",
    "    with open(filename,'w') as reportFile:\n",
    "        reportFile.write('highestmark:'+str(max(arr))+'\\n')\n",
    "        reportFile.write('lowestmark: '+str(min(arr))+'\\n')\n",
    "        reportFile.write('averagemark: '+str(sum(arr)//len(arr))+'\\n')\n",
    "        for i in range(0,len(arr)):\n",
    "            if arr[i]>80:\n",
    "                dist=dist+1\n",
    "            elif(arr[i]>=60 and arr[i]<80):\n",
    "                first=first+1\n",
    "            elif(arr[i]>=50 and arr[i]<60):\n",
    "                second=second+1\n",
    "            elif(arr[i]>=40 and arr[i]<50):\n",
    "                third=third+1\n",
    "            else:\n",
    "                fail=fail+1\n",
    "       \n",
    "        \n",
    "        reportFile.write('no.of students with distinction: '+str(dist)+'\\n')\n",
    "        reportFile.write('no.of students with first class: '+str(first)+'\\n')\n",
    "        reportFile.write('no.of students with second class: '+ str(second)+'\\n')\n",
    "        reportFile.write('no.of students with third class: '+str(third)+'\\n')\n",
    "        reportFile.write('no.of students with failed: '+str(fail)+'\\n')\n",
    "    return\n",
    "readmarksfromfile('DataFiles/marksdatafile.txt')\n",
    "    "
   ]
  },
  {
   "cell_type": "code",
   "execution_count": 21,
   "metadata": {},
   "outputs": [
    {
     "data": {
      "text/plain": [
       "0.007231799000237515"
      ]
     },
     "execution_count": 21,
     "metadata": {},
     "output_type": "execute_result"
    }
   ],
   "source": [
    "import re,timeit\n",
    "def genmarks(marksfile):\n",
    "    start=timeit.default_timer()\n",
    "    marksdata=readmarksfromfile(marksfile)\n",
    "    return timeit.default_timer()-start\n",
    "genmarks('DataFiles/marksdatafile.txt')\n",
    "    "
   ]
  },
  {
   "cell_type": "code",
   "execution_count": 114,
   "metadata": {},
   "outputs": [
    {
     "data": {
      "text/plain": [
       "36"
      ]
     },
     "execution_count": 114,
     "metadata": {},
     "output_type": "execute_result"
    }
   ],
   "source": [
    "def square(n):\n",
    "    return n*n\n",
    "li=[1,2,3,4,5,6]\n",
    "s=list(map(square,li))\n",
    "s[5]"
   ]
  },
  {
   "cell_type": "code",
   "execution_count": 18,
   "metadata": {},
   "outputs": [
    {
     "data": {
      "text/plain": [
       "['1', '2', '3', '4', '5', '6']"
      ]
     },
     "execution_count": 18,
     "metadata": {},
     "output_type": "execute_result"
    }
   ],
   "source": [
    "\n",
    "li=[1,2,3,4,5,6]\n",
    "s=list(map(str,li))\n",
    "s"
   ]
  },
  {
   "cell_type": "markdown",
   "metadata": {},
   "source": [
    "## list comprehension"
   ]
  },
  {
   "cell_type": "code",
   "execution_count": 119,
   "metadata": {},
   "outputs": [
    {
     "data": {
      "text/plain": [
       "[1.0, 2.0, 3.0, 4.0, 5.0, 6.0]"
      ]
     },
     "execution_count": 119,
     "metadata": {},
     "output_type": "execute_result"
    }
   ],
   "source": [
    "s=[float(i) for i in s]\n",
    "s"
   ]
  },
  {
   "cell_type": "code",
   "execution_count": 120,
   "metadata": {},
   "outputs": [
    {
     "data": {
      "text/plain": [
       "['1.0', '2.0', '3.0', '4.0', '5.0', '6.0']"
      ]
     },
     "execution_count": 120,
     "metadata": {},
     "output_type": "execute_result"
    }
   ],
   "source": [
    "s=[str(i) for i in s]\n",
    "s"
   ]
  },
  {
   "cell_type": "code",
   "execution_count": 121,
   "metadata": {},
   "outputs": [
    {
     "name": "stdout",
     "output_type": "stream",
     "text": [
      "0.00011214199912501499\n"
     ]
    }
   ],
   "source": [
    "st=timeit.default_timer()\n",
    "s=[str(i) for i in s]\n",
    "print(timeit.default_timer()-st)"
   ]
  },
  {
   "cell_type": "code",
   "execution_count": 146,
   "metadata": {},
   "outputs": [
    {
     "name": "stdout",
     "output_type": "stream",
     "text": [
      "0.0002469369992468273\n"
     ]
    }
   ],
   "source": [
    "import timeit\n",
    "st=timeit.default_timer()\n",
    "li=[1,2,3,4,5,6]\n",
    "s=list(map(str,li))\n",
    "print(timeit.default_timer()-st)"
   ]
  },
  {
   "cell_type": "markdown",
   "metadata": {},
   "source": [
    "## External libraries\n",
    "### SCIPY.ORG"
   ]
  },
  {
   "cell_type": "code",
   "execution_count": null,
   "metadata": {},
   "outputs": [],
   "source": []
  }
 ],
 "metadata": {
  "kernelspec": {
   "display_name": "Python 3",
   "language": "python",
   "name": "python3"
  },
  "language_info": {
   "codemirror_mode": {
    "name": "ipython",
    "version": 3
   },
   "file_extension": ".py",
   "mimetype": "text/x-python",
   "name": "python",
   "nbconvert_exporter": "python",
   "pygments_lexer": "ipython3",
   "version": "3.7.3"
  }
 },
 "nbformat": 4,
 "nbformat_minor": 2
}
